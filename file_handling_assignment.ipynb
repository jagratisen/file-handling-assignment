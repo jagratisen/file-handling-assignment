{
  "nbformat": 4,
  "nbformat_minor": 0,
  "metadata": {
    "colab": {
      "provenance": []
    },
    "kernelspec": {
      "name": "python3",
      "display_name": "Python 3"
    },
    "language_info": {
      "name": "python"
    }
  },
  "cells": [
    {
      "cell_type": "code",
      "execution_count": 2,
      "metadata": {
        "colab": {
          "base_uri": "https://localhost:8080/"
        },
        "id": "DqlZC-8yNiJW",
        "outputId": "9defa3ad-19bf-4e98-8e62-4713ef94896f"
      },
      "outputs": [
        {
          "output_type": "stream",
          "name": "stdout",
          "text": [
            "File written successfully.\n"
          ]
        }
      ],
      "source": [
        "# 1.How can you open a file for writing in Python and write a string to it\n",
        "# Open a file in write mode\n",
        "with open(\"example.txt\", \"w\") as file:\n",
        "    # Write a string to the file\n",
        "    file.write(\"Hello, this is a test!\")\n",
        "\n",
        "print(\"File written successfully.\")\n"
      ]
    },
    {
      "cell_type": "code",
      "source": [
        "# 2.Write a Python program to read the contents of a file and print each line\n",
        "# Open the file in read mode\n",
        "with open(\"example.txt\", \"r\") as file:\n",
        "    # Read and print each line\n",
        "    for line in file:\n",
        "        print(line.strip())  # Remove extra newlines\n"
      ],
      "metadata": {
        "colab": {
          "base_uri": "https://localhost:8080/"
        },
        "id": "zOQMtkU8Onwt",
        "outputId": "f3c8c0c6-138a-46ee-8bbc-3db1bb12170f"
      },
      "execution_count": 4,
      "outputs": [
        {
          "output_type": "stream",
          "name": "stdout",
          "text": [
            "Hello, this is a test!\n"
          ]
        }
      ]
    },
    {
      "cell_type": "code",
      "source": [
        "# 3. How would you handle a case where the file doesn't exist while trying to open it for reading\n",
        "try:\n",
        "    with open(\"my_file.txt\", \"r\") as file:\n",
        "        # Process the file here\n",
        "        contents = file.read()\n",
        "        print(contents)\n",
        "except FileNotFoundError:\n",
        "    print(\"The file 'my_file.txt' was not found.\")\n",
        "except Exception as e:\n",
        "    print(f\"An error occurred: {e}\")"
      ],
      "metadata": {
        "colab": {
          "base_uri": "https://localhost:8080/"
        },
        "id": "J1WooWqIP_mA",
        "outputId": "41159d5b-5105-45b9-cfbf-f60d6c2cc51f"
      },
      "execution_count": 5,
      "outputs": [
        {
          "output_type": "stream",
          "name": "stdout",
          "text": [
            "This is the text I want to write.\n",
            "\n"
          ]
        }
      ]
    },
    {
      "cell_type": "code",
      "source": [
        "# 4.Write a Python script that reads from one file and writes its content to another fileF\n",
        "try:\n",
        "    # Open the source file for reading and the destination file for writing\n",
        "    with open(\"source.txt\", \"r\") as source, open(\"destination.txt\", \"w\") as destination:\n",
        "        # Read the content of the source file\n",
        "        content = source.read()\n",
        "\n",
        "        # Write the content to the destination file\n",
        "        destination.write(content)\n",
        "\n",
        "    print(\"File copied successfully.\")\n",
        "\n",
        "except FileNotFoundError:\n",
        "    print(\"Error: source.txt not found. Please check if the file exists.\")\n",
        "\n",
        "except Exception as e:\n",
        "    print(f\"An error occurred: {e}\")\n",
        "\n"
      ],
      "metadata": {
        "colab": {
          "base_uri": "https://localhost:8080/"
        },
        "id": "dcPCB7FmQwfb",
        "outputId": "772ed2eb-1a41-4df2-ac1e-584e0f1a4dfa"
      },
      "execution_count": 7,
      "outputs": [
        {
          "output_type": "stream",
          "name": "stdout",
          "text": [
            "Error: source.txt not found. Please check if the file exists.\n"
          ]
        }
      ]
    },
    {
      "cell_type": "code",
      "source": [
        "# 5.How would you catch and handle division by zero error in Python\n",
        "try:\n",
        "    # Code that might cause ZeroDivisionError\n",
        "    result = 10 / 0  # This will raise ZeroDivisionError\n",
        "except ZeroDivisionError:\n",
        "    print(\"Error: Division by zero occurred!\")\n",
        "    # You can handle the error here, e.g., set a default value\n",
        "    result = float('inf')  # or any other appropriate value\n",
        "\n",
        "# Continue with the rest of the program\n",
        "print(f\"Result: {result}\")"
      ],
      "metadata": {
        "colab": {
          "base_uri": "https://localhost:8080/"
        },
        "id": "YTWVVINDRiWx",
        "outputId": "1f453d4c-1396-4637-eae7-62d1c5566b79"
      },
      "execution_count": 8,
      "outputs": [
        {
          "output_type": "stream",
          "name": "stdout",
          "text": [
            "Error: Division by zero occurred!\n",
            "Result: inf\n"
          ]
        }
      ]
    },
    {
      "cell_type": "code",
      "source": [
        "# 6.Write a Python program that logs an error message to a log file when a division by zero exception occurs\n",
        "import logging\n",
        "\n",
        "# Configure logging\n",
        "logging.basicConfig(filename='error.log', level=logging.ERROR,\n",
        "                    format='%(asctime)s - %(levelname)s - %(message)s')\n",
        "\n",
        "def divide(x, y):\n",
        "    try:\n",
        "        result = x / y\n",
        "    except ZeroDivisionError:\n",
        "        logging.error(\"Division by zero attempted!\")  # Log the error\n",
        "        # You might want to re-raise the exception or handle it differently here\n",
        "        raise  # Re-raise the exception to stop execution\n",
        "    else:\n",
        "        return result\n",
        "\n",
        "# Example usage\n",
        "try:\n",
        "    result = divide(10, 0)\n",
        "except ZeroDivisionError:\n",
        "    print(\"Error handled. Check the error.log file for details.\")"
      ],
      "metadata": {
        "colab": {
          "base_uri": "https://localhost:8080/"
        },
        "id": "wAAONqiZRzRH",
        "outputId": "b6c2a3f5-e20b-4afc-ea01-178189bb4e60"
      },
      "execution_count": 9,
      "outputs": [
        {
          "output_type": "stream",
          "name": "stderr",
          "text": [
            "ERROR:root:Division by zero attempted!\n"
          ]
        },
        {
          "output_type": "stream",
          "name": "stdout",
          "text": [
            "Error handled. Check the error.log file for details.\n"
          ]
        }
      ]
    },
    {
      "cell_type": "code",
      "source": [
        "# 7.How do you log information at different levels (INFO, ERROR, WARNING) in Python using the logging module\n",
        "import logging\n",
        "\n",
        "# Configure logging (you can customize this)\n",
        "logging.basicConfig(filename='my_log.log', level=logging.DEBUG,  # Set to lowest level to capture all\n",
        "                    format='%(asctime)s - %(levelname)s - %(message)s')\n",
        "\n",
        "# Create a logger (optional, but recommended)\n",
        "logger = logging.getLogger('my_app')\n",
        "\n",
        "# Log messages at different levels\n",
        "logger.debug('This is a debug message.')\n",
        "logger.info('This is an info message.')\n",
        "logger.warning('This is a warning message.')\n",
        "logger.error('This is an error message.')\n",
        "logger.critical('This is a critical message.')"
      ],
      "metadata": {
        "colab": {
          "base_uri": "https://localhost:8080/"
        },
        "id": "j0xQnbE1SI-v",
        "outputId": "99b747fd-bf04-441c-d11e-9d94e6125bed"
      },
      "execution_count": 10,
      "outputs": [
        {
          "output_type": "stream",
          "name": "stderr",
          "text": [
            "WARNING:my_app:This is a warning message.\n",
            "ERROR:my_app:This is an error message.\n",
            "CRITICAL:my_app:This is a critical message.\n"
          ]
        }
      ]
    },
    {
      "cell_type": "code",
      "source": [
        "# 8. Write a program to handle a file opening error using exception handling\n",
        "try:\n",
        "    # Attempt to open the file for reading\n",
        "    with open(\"non_existent_file.txt\", \"r\") as file:\n",
        "        content = file.read()\n",
        "        print(content)\n",
        "\n",
        "except FileNotFoundError:\n",
        "    print(\"Error: The file does not exist. Please check the filename and try again.\")\n",
        "\n",
        "except PermissionError:\n",
        "    print(\"Error: You do not have permission to access this file.\")\n",
        "\n",
        "except Exception as e:\n",
        "    print(f\"An unexpected error occurred: {e}\")\n"
      ],
      "metadata": {
        "colab": {
          "base_uri": "https://localhost:8080/"
        },
        "id": "Lvr_FkkISYgx",
        "outputId": "a394f1b0-241c-435e-c3a8-b1cafcba1f85"
      },
      "execution_count": 11,
      "outputs": [
        {
          "output_type": "stream",
          "name": "stdout",
          "text": [
            "Error: The file does not exist. Please check the filename and try again.\n"
          ]
        }
      ]
    },
    {
      "cell_type": "code",
      "source": [
        "# 9.How can you read a file line by line and store its content in a list in Python\n",
        "with open(\"example.txt\", \"r\") as file:\n",
        "    lines = [line.strip() for line in file]  # Reads and removes newlines\n",
        "\n",
        "print(lines)  # Output: List of lines without newlines\n"
      ],
      "metadata": {
        "colab": {
          "base_uri": "https://localhost:8080/"
        },
        "id": "strpxxYOSow8",
        "outputId": "b7c3c438-f396-48cd-df0a-d19755f3b28d"
      },
      "execution_count": 13,
      "outputs": [
        {
          "output_type": "stream",
          "name": "stdout",
          "text": [
            "['Hello, this is a test!']\n"
          ]
        }
      ]
    },
    {
      "cell_type": "code",
      "source": [
        "# 10.How can you append data to an existing file in Python\n",
        "with open(\"example.txt\", \"a\") as file:\n",
        "    file.write(\"\\nThis is an appended line.\")"
      ],
      "metadata": {
        "id": "ZCdF0DSmUUD6"
      },
      "execution_count": 17,
      "outputs": []
    },
    {
      "cell_type": "code",
      "source": [
        "# 11.Write a Python program that uses a try-except block to handle an error when attempting to access a\n",
        "#dictionary key that doesn't exist\n",
        "my_dict = {\"apple\": 1, \"banana\": 2, \"orange\": 3}\n",
        "\n",
        "try:\n",
        "    # Attempt to access a key that might not exist\n",
        "    value = my_dict[\"grape\"]\n",
        "    print(f\"The value for 'grape' is: {value}\")\n",
        "except KeyError:\n",
        "    print(\"Error: The key 'grape' does not exist in the dictionary.\")"
      ],
      "metadata": {
        "colab": {
          "base_uri": "https://localhost:8080/"
        },
        "id": "uoStJ0ZrWBb5",
        "outputId": "98691a32-5130-4801-dd9b-0ba7b8655470"
      },
      "execution_count": 18,
      "outputs": [
        {
          "output_type": "stream",
          "name": "stdout",
          "text": [
            "Error: The key 'grape' does not exist in the dictionary.\n"
          ]
        }
      ]
    },
    {
      "cell_type": "code",
      "source": [
        "# 12.Write a program that demonstrates using multiple except blocks to handle different types of exceptions\n",
        "def example_function(x, y):\n",
        "    try:\n",
        "        result = x / y  # Potential ZeroDivisionError\n",
        "        print(result)\n",
        "\n",
        "        my_list = [1, 2, 3]\n",
        "        print(my_list[4])  # Potential IndexError\n",
        "\n",
        "    except ZeroDivisionError:\n",
        "        print(\"Error: Division by zero occurred!\")\n",
        "\n",
        "    except IndexError:\n",
        "        print(\"Error: Index out of range!\")\n",
        "\n",
        "    except Exception as e:  # Catch-all for other exceptions\n",
        "        print(f\"An unexpected error occurred: {e}\")\n",
        "\n",
        "# Example usage\n",
        "example_function(10, 0)  # Will trigger ZeroDivisionError\n",
        "example_function(5, 2)  # Will trigger IndexError\n",
        "example_function(10, \"a\") # Will trigger TypeError"
      ],
      "metadata": {
        "colab": {
          "base_uri": "https://localhost:8080/"
        },
        "id": "A5k0qPG0WYnM",
        "outputId": "85762e63-b046-4c1a-cc9e-7a164d10a683"
      },
      "execution_count": 19,
      "outputs": [
        {
          "output_type": "stream",
          "name": "stdout",
          "text": [
            "Error: Division by zero occurred!\n",
            "2.5\n",
            "Error: Index out of range!\n",
            "An unexpected error occurred: unsupported operand type(s) for /: 'int' and 'str'\n"
          ]
        }
      ]
    },
    {
      "cell_type": "code",
      "source": [
        "# 13. How would you check if a file exists before attempting to read it in Python\n",
        "import os\n",
        "\n",
        "file_path = \"my_file.txt\"\n",
        "\n",
        "if os.path.exists(file_path):\n",
        "    # File exists, you can proceed to read it\n",
        "    with open(file_path, \"r\") as file:\n",
        "        # Read the file content here\n",
        "        content = file.read()\n",
        "        print(content)\n",
        "else:\n",
        "    print(f\"Error: The file '{file_path}' does not exist.\")"
      ],
      "metadata": {
        "colab": {
          "base_uri": "https://localhost:8080/"
        },
        "id": "PwboAcnxWt1X",
        "outputId": "9a2871a9-72bb-4f93-aa27-fd71785619a8"
      },
      "execution_count": 20,
      "outputs": [
        {
          "output_type": "stream",
          "name": "stdout",
          "text": [
            "This is the text I want to write.\n",
            "This is some new data to append.\n",
            "Another line of data.\n",
            "\n"
          ]
        }
      ]
    },
    {
      "cell_type": "code",
      "source": [
        "from pathlib import Path\n",
        "\n",
        "file_path = Path(\"my_file.txt\")\n",
        "\n",
        "if file_path.exists():\n",
        "    # File exists, you can proceed to read it\n",
        "    with open(file_path, \"r\") as file:\n",
        "        # Read the file content here\n",
        "        content = file.read()\n",
        "        print(content)\n",
        "else:\n",
        "    print(f\"Error: The file '{file_path}' does not exist.\")"
      ],
      "metadata": {
        "colab": {
          "base_uri": "https://localhost:8080/"
        },
        "id": "883CEX-tXK9q",
        "outputId": "c63d6886-3f40-46c5-f07f-6f5dae37be73"
      },
      "execution_count": 21,
      "outputs": [
        {
          "output_type": "stream",
          "name": "stdout",
          "text": [
            "This is the text I want to write.\n",
            "This is some new data to append.\n",
            "Another line of data.\n",
            "\n"
          ]
        }
      ]
    },
    {
      "cell_type": "code",
      "source": [
        "try:\n",
        "    with open(\"my_file.txt\", \"r\") as file:\n",
        "        # Read the file content here\n",
        "        content = file.read()\n",
        "        print(content)\n",
        "except FileNotFoundError:\n",
        "    print(\"Error: The file does not exist.\")"
      ],
      "metadata": {
        "colab": {
          "base_uri": "https://localhost:8080/"
        },
        "id": "SEkqDT9UXK6M",
        "outputId": "6bc1994a-aa06-40df-a7ae-631456989f32"
      },
      "execution_count": 22,
      "outputs": [
        {
          "output_type": "stream",
          "name": "stdout",
          "text": [
            "This is the text I want to write.\n",
            "This is some new data to append.\n",
            "Another line of data.\n",
            "\n"
          ]
        }
      ]
    },
    {
      "cell_type": "code",
      "source": [
        "# 14. Write a program that uses the logging module to log both informational and error messages\n",
        "import logging\n",
        "\n",
        "# Configure logging\n",
        "logging.basicConfig(filename='my_log.log', level=logging.INFO,\n",
        "                    format='%(asctime)s - %(levelname)s - %(message)s')\n",
        "\n",
        "# Create a logger (optional)\n",
        "logger = logging.getLogger(__name__)\n",
        "\n",
        "def my_function():\n",
        "    logger.info(\"Starting my_function\")\n",
        "    try:\n",
        "        # Some code that might raise an exception\n",
        "        result = 10 / 0\n",
        "    except ZeroDivisionError:\n",
        "        logger.error(\"Division by zero error occurred\", exc_info=True)  # Log error with traceback\n",
        "    else:\n",
        "        logger.info(f\"Result: {result}\")\n",
        "    finally:\n",
        "        logger.info(\"Finishing my_function\")\n",
        "\n",
        "if __name__ == \"__main__\":\n",
        "    my_function()"
      ],
      "metadata": {
        "colab": {
          "base_uri": "https://localhost:8080/"
        },
        "id": "BIK88peyXUBX",
        "outputId": "49e46ed7-5884-421f-cbfd-b2800853373a"
      },
      "execution_count": 23,
      "outputs": [
        {
          "output_type": "stream",
          "name": "stderr",
          "text": [
            "ERROR:__main__:Division by zero error occurred\n",
            "Traceback (most recent call last):\n",
            "  File \"<ipython-input-23-ce8d41e5654f>\", line 15, in my_function\n",
            "    result = 10 / 0\n",
            "           ~~~^~~\n",
            "ZeroDivisionError: division by zero\n"
          ]
        }
      ]
    },
    {
      "cell_type": "code",
      "source": [
        "# 15.Write a Python program that prints the content of a file and handles the case when the file is empty\n",
        "def print_file_content(file_path):\n",
        "    \"\"\"Prints the content of a file and handles empty files gracefully.\"\"\"\n",
        "    try:\n",
        "        with open(file_path, \"r\") as file:\n",
        "            content = file.read()\n",
        "            if content:  # Check if the content is not empty\n",
        "                print(content)\n",
        "            else:\n",
        "                print(f\"The file '{file_path}' is empty.\")\n",
        "    except FileNotFoundError:\n",
        "        print(f\"Error: The file '{file_path}' was not found.\")\n",
        "    except Exception as e:\n",
        "        print(f\"An unexpected error occurred: {e}\")\n",
        "\n",
        "# Example usage\n",
        "file_path = \"my_file.txt\"  # Replace with your file path\n",
        "print_file_content(file_path)"
      ],
      "metadata": {
        "colab": {
          "base_uri": "https://localhost:8080/"
        },
        "id": "7soOqtOsXuLq",
        "outputId": "f1b04631-86c2-4bf4-c02c-92fb107ce5bc"
      },
      "execution_count": 24,
      "outputs": [
        {
          "output_type": "stream",
          "name": "stdout",
          "text": [
            "This is the text I want to write.\n",
            "This is some new data to append.\n",
            "Another line of data.\n",
            "\n"
          ]
        }
      ]
    },
    {
      "cell_type": "code",
      "source": [
        "# 16.Demonstrate how to use memory profiling to check the memory usage of a small program\n",
        "from memory_profiler import profile\n",
        "import time\n",
        "\n",
        "@profile\n",
        "def my_function():\n",
        "    \"\"\"A function that uses some memory.\"\"\"\n",
        "    a = [1] * (10 ** 6)  # Create a large list\n",
        "    b = [2] * (2 * 10 ** 7)  # Create an even larger list\n",
        "    time.sleep(2)  # Simulate some work\n",
        "    del b  # Delete the larger list to see memory usage changes\n",
        "    return a\n",
        "\n",
        "\n",
        "if __name__ == \"__main__\":\n",
        "    my_function()\n",
        "\n"
      ],
      "metadata": {
        "colab": {
          "base_uri": "https://localhost:8080/"
        },
        "id": "lJwh4kEVYAFD",
        "outputId": "a9e36e27-a2ce-4145-9a2b-440fcc43afa5"
      },
      "execution_count": 38,
      "outputs": [
        {
          "output_type": "stream",
          "name": "stderr",
          "text": [
            "\n",
            "PYDEV DEBUGGER WARNING:\n",
            "sys.settrace() should not be used when the debugger is being used.\n",
            "This may cause the debugger to stop working correctly.\n",
            "If this is needed, please check: \n",
            "http://pydev.blogspot.com/2007/06/why-cant-pydev-debugger-work-with.html\n",
            "to see how to restore the debug tracing back correctly.\n",
            "Call Location:\n",
            "  File \"/usr/local/lib/python3.11/dist-packages/memory_profiler.py\", line 847, in enable\n",
            "    sys.settrace(self.trace_memory_usage)\n",
            "\n"
          ]
        },
        {
          "output_type": "stream",
          "name": "stdout",
          "text": [
            "ERROR: Could not find file <ipython-input-38-600b8730fca4>\n",
            "NOTE: %mprun can only be used on functions defined in physical files, and not in the IPython environment.\n"
          ]
        },
        {
          "output_type": "stream",
          "name": "stderr",
          "text": [
            "\n",
            "PYDEV DEBUGGER WARNING:\n",
            "sys.settrace() should not be used when the debugger is being used.\n",
            "This may cause the debugger to stop working correctly.\n",
            "If this is needed, please check: \n",
            "http://pydev.blogspot.com/2007/06/why-cant-pydev-debugger-work-with.html\n",
            "to see how to restore the debug tracing back correctly.\n",
            "Call Location:\n",
            "  File \"/usr/local/lib/python3.11/dist-packages/memory_profiler.py\", line 850, in disable\n",
            "    sys.settrace(self._original_trace_function)\n",
            "\n"
          ]
        }
      ]
    },
    {
      "cell_type": "code",
      "source": [
        "# 17. Write a Python program to create and write a list of numbers to a file, one number per line\n",
        "def write_numbers_to_file(numbers, filename=\"numbers.txt\"):\n",
        "    \"\"\"Writes a list of numbers to a file, one number per line.\n",
        "\n",
        "    Args:\n",
        "        numbers (list): The list of numbers to write.\n",
        "        filename (str, optional): The name of the file to write to.\n",
        "                                    Defaults to \"numbers.txt\".\n",
        "    \"\"\"\n",
        "    try:\n",
        "        with open(filename, \"w\") as file:\n",
        "            for number in numbers:\n",
        "                file.write(str(number) + \"\\n\")  # Write each number followed by a newline\n",
        "\n",
        "        print(f\"Numbers written to '{filename}' successfully.\")\n",
        "    except Exception as e:\n",
        "        print(f\"An error occurred: {e}\")\n",
        "\n",
        "# Example usage:\n",
        "numbers = [1, 2, 3, 4, 5]\n",
        "write_numbers_to_file(numbers)  # Writes to numbers.txt\n",
        "\n",
        "# To write to a different file:\n",
        "write_numbers_to_file(numbers, filename=\"my_numbers.txt\")"
      ],
      "metadata": {
        "colab": {
          "base_uri": "https://localhost:8080/"
        },
        "id": "EqtEv2gsbMEY",
        "outputId": "627ebb3a-b891-4e96-91dd-311d90c9ff09"
      },
      "execution_count": 29,
      "outputs": [
        {
          "output_type": "stream",
          "name": "stdout",
          "text": [
            "Numbers written to 'numbers.txt' successfully.\n",
            "Numbers written to 'my_numbers.txt' successfully.\n"
          ]
        }
      ]
    },
    {
      "cell_type": "code",
      "source": [
        "# 18. How would you implement a basic logging setup that logs to a file with rotation after 1MB\n",
        "import logging\n",
        "from logging.handlers import RotatingFileHandler\n",
        "\n",
        "# Create a logger\n",
        "logger = logging.getLogger(__name__)\n",
        "logger.setLevel(logging.INFO)  # Set the minimum logging level\n",
        "\n",
        "# Create a RotatingFileHandler\n",
        "handler = RotatingFileHandler('my_log.log', maxBytes=1024 * 1024, backupCount=5)\n",
        "# maxBytes=1024*1024 sets the file size limit to 1MB\n",
        "# backupCount=5 keeps 5 backup files\n",
        "\n",
        "# Create a formatter and add it to the handler\n",
        "formatter = logging.Formatter('%(asctime)s - %(levelname)s - %(message)s')\n",
        "handler.setFormatter(formatter)\n",
        "\n",
        "# Add the handler to the logger\n",
        "logger.addHandler(handler)\n",
        "\n",
        "# Now you can use the logger to log messages\n",
        "logger.info('This is an informational message.')\n",
        "logger.error('This is an error message.')"
      ],
      "metadata": {
        "colab": {
          "base_uri": "https://localhost:8080/"
        },
        "id": "A_mP6X5FbYcM",
        "outputId": "813e5d0e-8a6c-4490-cace-86af4cd47e17"
      },
      "execution_count": 30,
      "outputs": [
        {
          "output_type": "stream",
          "name": "stderr",
          "text": [
            "INFO:__main__:This is an informational message.\n",
            "ERROR:__main__:This is an error message.\n"
          ]
        }
      ]
    },
    {
      "cell_type": "code",
      "source": [
        "# 19. Write a program that handles both IndexError and KeyError using a try-except block\n",
        "def access_data(data_structure, index_or_key):\n",
        "    \"\"\"\n",
        "    Accesses data from a list or dictionary and handles potential errors.\n",
        "\n",
        "    Args:\n",
        "        data_structure (list or dict): The data structure to access.\n",
        "        index_or_key (int or str): The index (for lists) or key (for dictionaries) to access.\n",
        "    \"\"\"\n",
        "    try:\n",
        "        value = data_structure[index_or_key]\n",
        "        print(f\"Value at {index_or_key}: {value}\")\n",
        "    except IndexError:\n",
        "        print(f\"Error: Invalid index {index_or_key} for the given list.\")\n",
        "    except KeyError:\n",
        "        print(f\"Error: Key {index_or_key} not found in the dictionary.\")\n",
        "    except TypeError:\n",
        "        print(\"Error: Please provide a valid list or dictionary.\")\n",
        "\n",
        "\n",
        "# Example usage:\n",
        "my_list = [10, 20, 30]\n",
        "my_dict = {\"a\": 1, \"b\": 2, \"c\": 3}\n",
        "\n",
        "access_data(my_list, 2)  # Accessing a valid index in the list\n",
        "access_data(my_list, 5)  # Accessing an invalid index in the list\n",
        "access_data(my_dict, \"b\")  # Accessing a valid key in the dictionary\n",
        "access_data(my_dict, \"d\")  # Accessing an invalid key in the dictionary\n",
        "access_data(\"hello\", 1)  # Providing an invalid data structure (string)"
      ],
      "metadata": {
        "colab": {
          "base_uri": "https://localhost:8080/"
        },
        "id": "YUzpr3kvbrAC",
        "outputId": "1ec90013-079b-4f89-94e4-ecbf82928b26"
      },
      "execution_count": 31,
      "outputs": [
        {
          "output_type": "stream",
          "name": "stdout",
          "text": [
            "Value at 2: 30\n",
            "Error: Invalid index 5 for the given list.\n",
            "Value at b: 2\n",
            "Error: Key d not found in the dictionary.\n",
            "Value at 1: e\n"
          ]
        }
      ]
    },
    {
      "cell_type": "code",
      "source": [
        "# 20.How would you open a file and read its contents using a context manager in Python\n",
        "def read_file_content(file_path):\n",
        "    \"\"\"Reads the content of a file using a context manager.\n",
        "\n",
        "    Args:\n",
        "        file_path (str): The path to the file.\n",
        "\n",
        "    Returns:\n",
        "        str: The content of the file, or None if an error occurs.\n",
        "    \"\"\"\n",
        "    try:\n",
        "        with open(file_path, \"r\") as file:  # Use 'with open' as a context manager\n",
        "            content = file.read()  # Read the entire content\n",
        "            return content\n",
        "    except FileNotFoundError:\n",
        "        print(f\"Error: The file '{file_path}' was not found.\")\n",
        "        return None  # Or handle the error in another way\n",
        "    except Exception as e:\n",
        "        print(f\"An unexpected error occurred: {e}\")\n",
        "        return None\n",
        "\n",
        "# Example usage\n",
        "file_path = \"my_file.txt\"  # Replace with your file path\n",
        "file_content = read_file_content(file_path)\n",
        "\n",
        "if file_content:\n",
        "    print(file_content)"
      ],
      "metadata": {
        "colab": {
          "base_uri": "https://localhost:8080/"
        },
        "id": "j9_St2uPcG9v",
        "outputId": "1cabbd37-7c88-47de-bc13-7445ccb79434"
      },
      "execution_count": 32,
      "outputs": [
        {
          "output_type": "stream",
          "name": "stdout",
          "text": [
            "This is the text I want to write.\n",
            "This is some new data to append.\n",
            "Another line of data.\n",
            "\n"
          ]
        }
      ]
    },
    {
      "cell_type": "code",
      "source": [
        "# 21.Write a Python program that reads a file and prints the number of occurrences of a specific word\n",
        "import re\n",
        "\n",
        "def count_word_occurrences(file_path, word):\n",
        "    \"\"\"Counts the occurrences of a specific word in a file.\n",
        "\n",
        "    Args:\n",
        "        file_path (str): The path to the file.\n",
        "        word (str): The word to count.\n",
        "\n",
        "    Returns:\n",
        "        int: The number of occurrences of the word in the file.\n",
        "    \"\"\"\n",
        "    count = 0\n",
        "    try:\n",
        "        with open(file_path, \"r\") as file:\n",
        "            for line in file:\n",
        "                # Using regular expressions to find all occurrences of the word\n",
        "                # (ignoring case)\n",
        "                matches = re.findall(r'\\b' + word + r'\\b', line, re.IGNORECASE)\n",
        "                count += len(matches)\n",
        "    except FileNotFoundError:\n",
        "        print(f\"Error: The file '{file_path}' was not found.\")\n",
        "    except Exception as e:\n",
        "        print(f\"An unexpected error occurred: {e}\")\n",
        "\n",
        "    return count\n",
        "\n",
        "# Example usage:\n",
        "file_path = \"my_file.txt\"  # Replace with your file path\n",
        "word_to_count = \"example\"  # Replace with the word you want to count\n",
        "\n",
        "occurrences = count_word_occurrences(file_path, word_to_count)\n",
        "print(f\"The word '{word_to_count}' appears {occurrences} times in the file.\")"
      ],
      "metadata": {
        "colab": {
          "base_uri": "https://localhost:8080/"
        },
        "id": "9GPF1_hJcXTZ",
        "outputId": "599ce213-f875-4f2c-e89a-4a8e60da11de"
      },
      "execution_count": 33,
      "outputs": [
        {
          "output_type": "stream",
          "name": "stdout",
          "text": [
            "The word 'example' appears 0 times in the file.\n"
          ]
        }
      ]
    },
    {
      "cell_type": "code",
      "source": [
        "# 22. How can you check if a file is empty before attempting to read its contents\n",
        "file_path = \"example.txt\"\n",
        "\n",
        "with open(file_path, \"r\") as file:\n",
        "    if file.read(1):  # Try reading the first character\n",
        "        print(\"The file is not empty.\")\n",
        "    else:\n",
        "        print(\"The file is empty.\")\n"
      ],
      "metadata": {
        "colab": {
          "base_uri": "https://localhost:8080/"
        },
        "id": "8M8TNt-scmRv",
        "outputId": "4316258b-b506-422f-937c-3d84f60ed7b7"
      },
      "execution_count": 35,
      "outputs": [
        {
          "output_type": "stream",
          "name": "stdout",
          "text": [
            "The file is not empty.\n"
          ]
        }
      ]
    },
    {
      "cell_type": "code",
      "source": [
        "import os\n",
        "\n",
        "file_path = \"example.txt\"\n",
        "\n",
        "if os.path.exists(file_path) and os.stat(file_path).st_size == 0:\n",
        "    print(\"The file is empty.\")\n",
        "else:\n",
        "    print(\"The file is not empty.\")\n"
      ],
      "metadata": {
        "colab": {
          "base_uri": "https://localhost:8080/"
        },
        "id": "J3ul5EfldTQu",
        "outputId": "84d50699-a154-426a-ee7f-6d5118b10012"
      },
      "execution_count": 36,
      "outputs": [
        {
          "output_type": "stream",
          "name": "stdout",
          "text": [
            "The file is not empty.\n"
          ]
        }
      ]
    },
    {
      "cell_type": "code",
      "source": [
        "# 23.Write a Python program that writes to a log file when an error occurs during file handling\n",
        "import logging\n",
        "\n",
        "def process_file(file_path):\n",
        "    \"\"\"Processes a file and logs errors to a log file.\"\"\"\n",
        "\n",
        "    # Configure logging\n",
        "    logging.basicConfig(filename='file_handling_errors.log', level=logging.ERROR,\n",
        "                        format='%(asctime)s - %(levelname)s - %(message)s')\n",
        "    logger = logging.getLogger(__name__)\n",
        "\n",
        "    try:\n",
        "        with open(file_path, \"r\") as file:\n",
        "            # Process the file here (e.g., read data, perform operations)\n",
        "            content = file.read()\n",
        "            # ... your file processing logic ...\n",
        "            print(\"File processed successfully.\")\n",
        "    except FileNotFoundError:\n",
        "        logger.error(f\"File not found: {file_path}\")\n",
        "    except PermissionError:\n",
        "        logger.error(f\"Permission denied when accessing: {file_path}\")\n",
        "    except Exception as e:\n",
        "        logger.exception(f\"An unexpected error occurred: {e}\")  # Log with traceback\n",
        "\n",
        "# Example usage\n",
        "file_path = \"my_file.txt\"  # Replace with your file path\n",
        "process_file(file_path)"
      ],
      "metadata": {
        "colab": {
          "base_uri": "https://localhost:8080/"
        },
        "id": "ZNK70v6tdYL9",
        "outputId": "724e39af-3198-47d7-adc4-2ce9a27e1553"
      },
      "execution_count": 37,
      "outputs": [
        {
          "output_type": "stream",
          "name": "stdout",
          "text": [
            "File processed successfully.\n"
          ]
        }
      ]
    }
  ]
}